{
  "cells": [
    {
      "cell_type": "markdown",
      "metadata": {
        "id": "view-in-github",
        "colab_type": "text"
      },
      "source": [
        "<a href=\"https://colab.research.google.com/github/aleksejalex/DYNR1cv_2025/blob/main/cartpole_via_qlearning.ipynb\" target=\"_parent\"><img src=\"https://colab.research.google.com/assets/colab-badge.svg\" alt=\"Open In Colab\"/></a>"
      ]
    },
    {
      "cell_type": "markdown",
      "id": "a8e9154e-48b4-44e6-9fc9-6ed55245fb3c",
      "metadata": {
        "id": "a8e9154e-48b4-44e6-9fc9-6ed55245fb3c"
      },
      "source": [
        "# Pole balancing problem via Q-Learning\n",
        "*Prepared by [Aleksej Gaj](https://aleksejgaj.cz)*"
      ]
    },
    {
      "cell_type": "code",
      "execution_count": null,
      "id": "022ffa8b-de28-4786-86a9-998dec9bc059",
      "metadata": {
        "id": "022ffa8b-de28-4786-86a9-998dec9bc059"
      },
      "outputs": [],
      "source": [
        "%%capture\n",
        "%pip install gymnasium\n",
        "%pip install pygame"
      ]
    },
    {
      "cell_type": "markdown",
      "id": "03ac76e4-23fd-4367-9b62-fc817f23a56a",
      "metadata": {
        "id": "03ac76e4-23fd-4367-9b62-fc817f23a56a"
      },
      "source": [
        "## Description (summary from [documentation page](https://gymnasium.farama.org/environments/classic_control/cart_pole/) )\n",
        "This environment corresponds to the version of the cart-pole problem described by Barto, Sutton, and Anderson in “Neuronlike Adaptive Elements That Can Solve Difficult Learning Control Problem”.\n",
        "A pole is attached by an un-actuated joint to a cart, which moves along a frictionless track.\n",
        "The pendulum is placed upright on the cart and the goal is to balance the pole by applying forces in the left and right direction on the cart.\n",
        "\n",
        "### Action Space\n",
        "The action is a `ndarray` with shape `(1,)` which can take values `{0, 1}` indicating the direction of the fixed force the cart is pushed with.\n",
        "\n",
        "- **0**: Push cart to the left\n",
        "- **1**: Push cart to the right\n",
        "\n",
        "Note: The velocity that is reduced or increased by the applied force is not fixed and it depends on the angle the pole is pointing. The center of gravity of the pole varies the amount of energy needed to move the cart underneath it.\n",
        "\n",
        "### Observation Space\n",
        "The observation is a ndarray with shape (4,) with the values corresponding to the following positions and velocities:\n",
        "\n",
        "| Num | Observation          | Min    | Max    |\n",
        "|-----|----------------------|--------|--------|\n",
        "| 0   | Cart Position        | -4.8   | 4.8    |\n",
        "| 1   | Cart Velocity        | -Inf   | Inf    |\n",
        "| 2   | Pole Angle           | ~ -0.418 rad (-24°) | ~ 0.418 rad (24°) |\n",
        "| 3   | Pole Angular Velocity | -Inf   | Inf    |\n",
        "\n",
        "Note: While the ranges above denote the possible values for observation space of each element, it is not reflective of the allowed values of the state space in an unterminated episode. Particularly:\n",
        "\n",
        "- The cart x-position (index 0) can take values between (-4.8, 4.8), but the episode terminates if the cart leaves the (-2.4, 2.4) range.\n",
        "- The pole angle can be observed between (-.418, .418) radians (or ±24°), but the episode terminates if the pole angle is not in the range (-.2095, .2095) (or ±12°).\n",
        "\n",
        "### Rewards\n",
        "Since the goal is to keep the pole upright for as long as possible, by default, a reward of +1 is given for every step taken, including the termination step. The default reward threshold is 500 for v1 and 200 for v0 due to the time limit on the environment.\n",
        "\n",
        "If `sutton_barto_reward=True`, then a reward of 0 is awarded for every non-terminating step and -1 for the terminating step. As a result, the reward threshold is 0 for v0 and v1.\n",
        "\n",
        "### Starting State\n",
        "All observations are assigned a uniformly random value in (-0.05, 0.05).\n",
        "\n",
        "### Episode End\n",
        "The episode ends if any one of the following occurs:\n",
        "\n",
        "- **Termination**: Pole Angle is greater than ±12°\n",
        "- **Termination**: Cart Position is greater than ±2.4 (center of the cart reaches the edge of the display)\n",
        "- **Truncation**: Episode length is greater than 500 (200 for v0)\n"
      ]
    },
    {
      "cell_type": "code",
      "execution_count": 1,
      "id": "4decd8a3-0284-4e26-9116-5f7de112d22a",
      "metadata": {
        "id": "4decd8a3-0284-4e26-9116-5f7de112d22a"
      },
      "outputs": [],
      "source": [
        "import gymnasium as gym\n",
        "import numpy as np\n",
        "import matplotlib.pyplot as plt\n",
        "from collections import defaultdict\n",
        "\n",
        "from gymnasium.wrappers import TimeLimit"
      ]
    },
    {
      "cell_type": "code",
      "execution_count": 2,
      "id": "6e8470bf-cef1-4358-a3d5-93f4919312ee",
      "metadata": {
        "id": "6e8470bf-cef1-4358-a3d5-93f4919312ee"
      },
      "outputs": [],
      "source": [
        "max_steps = 800"
      ]
    },
    {
      "cell_type": "code",
      "execution_count": 3,
      "id": "bf0fcde6-9ccc-4881-badf-374909f95e84",
      "metadata": {
        "id": "bf0fcde6-9ccc-4881-badf-374909f95e84"
      },
      "outputs": [],
      "source": [
        "# Create the environment\n",
        "env = gym.make(\"CartPole-v1\", render_mode=None)\n",
        "env = env.unwrapped\n",
        "env = TimeLimit(env, max_episode_steps = max_steps) # Re-wrap with custom max steps (e.g., 500)\n",
        "\n",
        "# Discretization bins\n",
        "NUM_BINS = (6, 12, 6, 12)  # Number of bins per observation dimension\n",
        "NUM_BINS = (20, 12, 20, 12)\n",
        "\n",
        "# Define observation space boundaries (manually clipped to reasonable limits)\n",
        "OBS_SPACE_LOW = np.array([-2.4, -3.0, -0.21, -3.0])\n",
        "OBS_SPACE_HIGH = np.array([2.4, 3.0, 0.21, 3.0])\n",
        "\n",
        "#OBS_SPACE_LOW = np.array([-4.8, -3.0, -0.4, -3.0])\n",
        "#OBS_SPACE_HIGH = np.array([4.8, 3.0, 0.4, 3.0])"
      ]
    },
    {
      "cell_type": "markdown",
      "id": "00315a95-892d-4ed2-912a-d373b079dcec",
      "metadata": {
        "id": "00315a95-892d-4ed2-912a-d373b079dcec"
      },
      "source": [
        "### remark about discretizing continuous environment\n",
        "The CartPole-v1 environment has a continuous observation space:\n",
        "```python\n",
        "obs = [cart position, cart velocity, pole angle, pole angular velocity]\n",
        "```\n",
        "Tabular Q-learning requires discrete states (e.g., integers you can use as dictionary keys), so we divide each dimension into bins.\n",
        "\n",
        "#### What This Means:\n",
        "- **6** → 6 bins for cart position (e.g., from left to right on the track)\n",
        "- **12** → 12 bins for cart velocity\n",
        "- **6** → 6 bins for pole angle (critical for balancing)\n",
        "- **12** → 12 bins for pole angular velocity\n",
        "\n",
        "This gives total possible discrete states = 6 × 12 × 6 × 12 = 5,184\n",
        "\n",
        "That’s a manageable number for a Q-table (as opposed to infinitely many real-valued observations).\n",
        "\n",
        "#### What can be tuned:\n",
        "- **More bins** → finer resolution → more precision, but slower learning (larger Q-table).\n",
        "- **Fewer bins** → faster learning, but coarser, potentially less stable control.\n",
        "\n",
        "For example:\n",
        "\n",
        "```python\n",
        "NUM_BINS = (10, 10, 10, 10)  # More precise, but slower training  \n",
        "NUM_BINS = (4, 6, 4, 6)      # Faster training, lower performance ceiling\n",
        "```\n"
      ]
    },
    {
      "cell_type": "code",
      "execution_count": 4,
      "id": "cb908427-853d-45ef-97e6-84cb4640abc6",
      "metadata": {
        "id": "cb908427-853d-45ef-97e6-84cb4640abc6"
      },
      "outputs": [],
      "source": [
        "# Discretize observation into bins\n",
        "def discretize(obs):\n",
        "    ratios = (obs - OBS_SPACE_LOW) / (OBS_SPACE_HIGH - OBS_SPACE_LOW)\n",
        "    new_obs = (ratios * NUM_BINS).astype(int)\n",
        "    new_obs = np.clip(new_obs, 0, np.array(NUM_BINS) - 1)\n",
        "    return tuple(new_obs)"
      ]
    },
    {
      "cell_type": "code",
      "execution_count": 5,
      "id": "d58f4c26-ab24-4103-9186-76842d7b3e3b",
      "metadata": {
        "colab": {
          "base_uri": "https://localhost:8080/"
        },
        "id": "d58f4c26-ab24-4103-9186-76842d7b3e3b",
        "outputId": "df0a3f13-b015-45c0-dbe8-b771d8f20eb4"
      },
      "outputs": [
        {
          "output_type": "execute_result",
          "data": {
            "text/plain": [
              "collections.defaultdict"
            ]
          },
          "metadata": {},
          "execution_count": 5
        }
      ],
      "source": [
        "# Q-table initialized to zeros\n",
        "q_table = defaultdict(lambda: np.zeros(env.action_space.n))\n",
        "type(q_table)"
      ]
    },
    {
      "cell_type": "code",
      "execution_count": 6,
      "id": "d9960bf1-ef25-4414-b3ae-c97ab9ccd4b3",
      "metadata": {
        "id": "d9960bf1-ef25-4414-b3ae-c97ab9ccd4b3"
      },
      "outputs": [],
      "source": [
        "# Q-learning parameters\n",
        "alpha = 0.4            # Learning rate, default: 0.1\n",
        "gamma = 0.999          # Discount factor\n",
        "epsilon = 1            # Exploration rate\n",
        "epsilon_decay = 0.001\n",
        "epsilon_min = 0.1\n",
        "episodes = 9000\n",
        "#max_steps = 200"
      ]
    },
    {
      "cell_type": "code",
      "execution_count": 7,
      "id": "365b34f6-500f-443a-9673-e02ea28dadd7",
      "metadata": {
        "colab": {
          "base_uri": "https://localhost:8080/"
        },
        "id": "365b34f6-500f-443a-9673-e02ea28dadd7",
        "outputId": "c0ce8fdc-b6df-4994-d062-ac51e2ad88e3"
      },
      "outputs": [
        {
          "output_type": "stream",
          "name": "stdout",
          "text": [
            "Episode 100/9000: Average reward (last 100) = 23.68\n",
            "Episode 200/9000: Average reward (last 100) = 24.83\n",
            "Episode 300/9000: Average reward (last 100) = 30.38\n",
            "Episode 400/9000: Average reward (last 100) = 32.09\n",
            "Episode 500/9000: Average reward (last 100) = 36.74\n",
            "Episode 600/9000: Average reward (last 100) = 39.92\n",
            "Episode 700/9000: Average reward (last 100) = 51.43\n",
            "Episode 800/9000: Average reward (last 100) = 57.62\n",
            "Episode 900/9000: Average reward (last 100) = 79.41\n",
            "Episode 1000/9000: Average reward (last 100) = 82.49\n",
            "Episode 1100/9000: Average reward (last 100) = 104.48\n",
            "Episode 1200/9000: Average reward (last 100) = 79.78\n",
            "Episode 1300/9000: Average reward (last 100) = 84.80\n",
            "Episode 1400/9000: Average reward (last 100) = 105.56\n",
            "Episode 1500/9000: Average reward (last 100) = 124.99\n",
            "Episode 1600/9000: Average reward (last 100) = 112.35\n",
            "Episode 1700/9000: Average reward (last 100) = 103.43\n",
            "Episode 1800/9000: Average reward (last 100) = 118.95\n",
            "Episode 1900/9000: Average reward (last 100) = 140.39\n",
            "Episode 2000/9000: Average reward (last 100) = 133.36\n",
            "Episode 2100/9000: Average reward (last 100) = 123.30\n",
            "Episode 2200/9000: Average reward (last 100) = 101.16\n",
            "Episode 2300/9000: Average reward (last 100) = 135.59\n",
            "Episode 2400/9000: Average reward (last 100) = 126.16\n",
            "Episode 2500/9000: Average reward (last 100) = 167.56\n",
            "Episode 2600/9000: Average reward (last 100) = 159.24\n",
            "Episode 2700/9000: Average reward (last 100) = 162.97\n",
            "Episode 2800/9000: Average reward (last 100) = 204.42\n",
            "Episode 2900/9000: Average reward (last 100) = 214.58\n",
            "Episode 3000/9000: Average reward (last 100) = 212.97\n",
            "Episode 3100/9000: Average reward (last 100) = 272.95\n",
            "Episode 3200/9000: Average reward (last 100) = 265.88\n",
            "Episode 3300/9000: Average reward (last 100) = 234.33\n",
            "Episode 3400/9000: Average reward (last 100) = 192.48\n",
            "Episode 3500/9000: Average reward (last 100) = 189.44\n",
            "Episode 3600/9000: Average reward (last 100) = 174.12\n",
            "Episode 3700/9000: Average reward (last 100) = 214.82\n",
            "Episode 3800/9000: Average reward (last 100) = 220.62\n",
            "Episode 3900/9000: Average reward (last 100) = 204.85\n",
            "Episode 4000/9000: Average reward (last 100) = 280.37\n",
            "Episode 4100/9000: Average reward (last 100) = 395.91\n",
            "Episode 4200/9000: Average reward (last 100) = 231.91\n",
            "Episode 4300/9000: Average reward (last 100) = 183.13\n",
            "Episode 4400/9000: Average reward (last 100) = 362.93\n",
            "Episode 4500/9000: Average reward (last 100) = 165.25\n",
            "Episode 4600/9000: Average reward (last 100) = 220.21\n",
            "Episode 4700/9000: Average reward (last 100) = 174.24\n",
            "Episode 4800/9000: Average reward (last 100) = 169.20\n",
            "Episode 4900/9000: Average reward (last 100) = 411.95\n",
            "Episode 5000/9000: Average reward (last 100) = 390.90\n",
            "Episode 5100/9000: Average reward (last 100) = 431.05\n",
            "Episode 5200/9000: Average reward (last 100) = 515.28\n",
            "Episode 5300/9000: Average reward (last 100) = 333.22\n",
            "Episode 5400/9000: Average reward (last 100) = 406.89\n",
            "Episode 5500/9000: Average reward (last 100) = 249.79\n",
            "Episode 5600/9000: Average reward (last 100) = 211.86\n",
            "Episode 5700/9000: Average reward (last 100) = 208.68\n",
            "Episode 5800/9000: Average reward (last 100) = 173.23\n",
            "Episode 5900/9000: Average reward (last 100) = 184.19\n",
            "Episode 6000/9000: Average reward (last 100) = 162.91\n",
            "Episode 6100/9000: Average reward (last 100) = 200.08\n",
            "Episode 6200/9000: Average reward (last 100) = 199.33\n",
            "Episode 6300/9000: Average reward (last 100) = 216.26\n",
            "Episode 6400/9000: Average reward (last 100) = 158.85\n",
            "Episode 6500/9000: Average reward (last 100) = 235.22\n",
            "Episode 6600/9000: Average reward (last 100) = 173.68\n",
            "Episode 6700/9000: Average reward (last 100) = 364.93\n",
            "Episode 6800/9000: Average reward (last 100) = 446.26\n",
            "Episode 6900/9000: Average reward (last 100) = 479.28\n",
            "Episode 7000/9000: Average reward (last 100) = 521.84\n",
            "Episode 7100/9000: Average reward (last 100) = 424.29\n",
            "Episode 7200/9000: Average reward (last 100) = 422.83\n",
            "Episode 7300/9000: Average reward (last 100) = 484.09\n",
            "Episode 7400/9000: Average reward (last 100) = 476.83\n",
            "Episode 7500/9000: Average reward (last 100) = 446.37\n",
            "Episode 7600/9000: Average reward (last 100) = 488.95\n",
            "Episode 7700/9000: Average reward (last 100) = 513.30\n",
            "Episode 7800/9000: Average reward (last 100) = 504.13\n",
            "Episode 7900/9000: Average reward (last 100) = 503.57\n",
            "Episode 8000/9000: Average reward (last 100) = 409.16\n",
            "Episode 8100/9000: Average reward (last 100) = 443.48\n",
            "Episode 8200/9000: Average reward (last 100) = 506.47\n",
            "Episode 8300/9000: Average reward (last 100) = 540.58\n",
            "Episode 8400/9000: Average reward (last 100) = 487.41\n",
            "Episode 8500/9000: Average reward (last 100) = 478.58\n",
            "Episode 8600/9000: Average reward (last 100) = 448.14\n",
            "Episode 8700/9000: Average reward (last 100) = 566.72\n",
            "Episode 8800/9000: Average reward (last 100) = 505.66\n",
            "Episode 8900/9000: Average reward (last 100) = 512.44\n",
            "Episode 9000/9000: Average reward (last 100) = 497.43\n"
          ]
        }
      ],
      "source": [
        "# Tracking rewards\n",
        "episode_rewards = []\n",
        "\n",
        "for episode in range(episodes):\n",
        "    state, _ = env.reset()\n",
        "    state = discretize(state)\n",
        "    total_reward = 0\n",
        "\n",
        "    for _ in range(max_steps):\n",
        "        # Epsilon-greedy action selection\n",
        "        if np.random.random() < epsilon:\n",
        "            action = env.action_space.sample()\n",
        "        else:\n",
        "            action = np.argmax(q_table[state])\n",
        "\n",
        "        next_state, reward, terminated, truncated, _ = env.step(action)\n",
        "        done = terminated or truncated\n",
        "        next_state_discrete = discretize(next_state)\n",
        "\n",
        "        # Q-learning update\n",
        "        best_next_action = np.max(q_table[next_state_discrete])\n",
        "        td_target = reward + gamma * best_next_action\n",
        "        td_delta = td_target - q_table[state][action]\n",
        "        q_table[state][action] += alpha * td_delta\n",
        "\n",
        "        state = next_state_discrete\n",
        "        total_reward += reward\n",
        "\n",
        "        if done:\n",
        "            break\n",
        "\n",
        "    # Decay exploration\n",
        "    #epsilon = max(epsilon * epsilon_decay, epsilon_min)\n",
        "    epsilon_max = 1\n",
        "    epsilon = (epsilon_max - epsilon_min)*np.exp(-epsilon_decay * episode)\n",
        "    #epsilon = 0.1\n",
        "\n",
        "    episode_rewards.append(total_reward)\n",
        "\n",
        "    if (episode + 1) % 100 == 0:\n",
        "        avg = np.mean(episode_rewards[-100:])\n",
        "        print(f\"Episode {episode+1}/{episodes}: Average reward (last 100) = {avg:.2f}\")\n",
        "\n",
        "env.close()"
      ]
    },
    {
      "cell_type": "code",
      "execution_count": 8,
      "id": "eac173f6-15c6-4d31-b070-d2d5bfdb291d",
      "metadata": {
        "colab": {
          "base_uri": "https://localhost:8080/",
          "height": 564
        },
        "id": "eac173f6-15c6-4d31-b070-d2d5bfdb291d",
        "outputId": "c5ba8c70-343d-4093-b84b-0ca3b9dac361"
      },
      "outputs": [
        {
          "output_type": "display_data",
          "data": {
            "text/plain": [
              "<Figure size 1200x600 with 1 Axes>"
            ],
            "image/png": "[encoded data removed]"
          },
          "metadata": {}
        }
      ],
      "source": [
        "# Plotting results\n",
        "plt.figure(figsize=(12, 6))\n",
        "plt.plot(episode_rewards, label=\"Episode Reward\", marker='.', linestyle='-')\n",
        "plt.xlabel(\"Episode\")\n",
        "plt.ylabel(\"Total Reward\")\n",
        "plt.title(\"Q-learning on CartPole-v1\")\n",
        "plt.grid()\n",
        "plt.legend()\n",
        "plt.savefig(f\"qlearing_episodes_{episodes}_maxsteps_{max_steps}.png\", dpi=220)\n",
        "plt.show()"
      ]
    },
    {
      "cell_type": "markdown",
      "id": "698adff4-76af-48d5-9711-022e806b7d51",
      "metadata": {
        "id": "698adff4-76af-48d5-9711-022e806b7d51"
      },
      "source": [
        "## Plot via `pygame` (better if run locally)"
      ]
    },
    {
      "cell_type": "code",
      "execution_count": null,
      "id": "73c9b421-9f63-4bbe-b8a6-1ebef5658227",
      "metadata": {
        "id": "73c9b421-9f63-4bbe-b8a6-1ebef5658227"
      },
      "outputs": [],
      "source": [
        "import time"
      ]
    },
    {
      "cell_type": "code",
      "execution_count": null,
      "id": "a2da3c05-b768-492d-9afc-108a8a27b435",
      "metadata": {
        "id": "a2da3c05-b768-492d-9afc-108a8a27b435",
        "outputId": "07709fd3-0869-46ef-9d75-0f3a2ee9698a"
      },
      "outputs": [
        {
          "name": "stdout",
          "output_type": "stream",
          "text": [
            "\n",
            "--- Evaluation Episode 1 ---\n",
            "Total Reward: 167.0\n",
            "\n",
            "--- Evaluation Episode 2 ---\n",
            "Total Reward: 126.0\n",
            "\n",
            "--- Evaluation Episode 3 ---\n",
            "Total Reward: 284.0\n",
            "\n",
            "--- Evaluation Episode 4 ---\n",
            "Total Reward: 224.0\n"
          ]
        }
      ],
      "source": [
        "# Re-create environment in human render mode\n",
        "env = gym.make(\"CartPole-v1\", render_mode=\"human\")  # render_mode=\"rgb_array\" or render_mode=\"human\"\n",
        "env = env.unwrapped\n",
        "env = TimeLimit(env, max_episode_steps = max_steps)\n",
        "\n",
        "# Run a few episodes with the trained policy\n",
        "num_eval_episodes = 4\n",
        "\n",
        "for ep in range(num_eval_episodes):\n",
        "    state, _ = env.reset()\n",
        "    state = discretize(state)\n",
        "    total_reward = 0\n",
        "    done = False\n",
        "\n",
        "    print(f\"\\n--- Evaluation Episode {ep+1} ---\")\n",
        "\n",
        "    while not done:\n",
        "        action = np.argmax(q_table[state])  # Always choose the best action\n",
        "        next_state, reward, terminated, truncated, _ = env.step(action)\n",
        "        done = terminated or truncated\n",
        "        state = discretize(next_state)\n",
        "        total_reward += reward\n",
        "        time.sleep(0.05)  # Slow down for visualization\n",
        "\n",
        "    print(f\"Total Reward: {total_reward}\")\n",
        "\n",
        "env.close()"
      ]
    },
    {
      "cell_type": "markdown",
      "id": "c9fc0b79-002f-40ea-9e0c-6ed4b25af651",
      "metadata": {
        "id": "c9fc0b79-002f-40ea-9e0c-6ed4b25af651"
      },
      "source": [
        "### How would random actions result?"
      ]
    },
    {
      "cell_type": "code",
      "execution_count": null,
      "id": "8f12dfe3-c74b-4d9b-9aa6-006a42d05ea8",
      "metadata": {
        "id": "8f12dfe3-c74b-4d9b-9aa6-006a42d05ea8",
        "outputId": "ede0b950-edd8-46cb-97d4-80160df73c1c"
      },
      "outputs": [
        {
          "name": "stdout",
          "output_type": "stream",
          "text": [
            "\n",
            "--- Evaluation Episode 1 ---\n",
            "Total Reward: 10.0\n",
            "\n",
            "--- Evaluation Episode 2 ---\n",
            "Total Reward: 22.0\n",
            "\n",
            "--- Evaluation Episode 3 ---\n",
            "Total Reward: 46.0\n",
            "\n",
            "--- Evaluation Episode 4 ---\n",
            "Total Reward: 26.0\n"
          ]
        }
      ],
      "source": [
        "# Re-create environment in human render mode\n",
        "env = gym.make(\"CartPole-v1\", render_mode=\"human\")  # render_mode=\"rgb_array\" or render_mode=\"human\"\n",
        "env = env.unwrapped\n",
        "env = TimeLimit(env, max_episode_steps=max_steps)\n",
        "\n",
        "# Run a few episodes with random actions\n",
        "num_eval_episodes = 4\n",
        "\n",
        "for ep in range(num_eval_episodes):\n",
        "    state, _ = env.reset()\n",
        "    state = discretize(state)\n",
        "    total_reward = 0\n",
        "    done = False\n",
        "\n",
        "    print(f\"\\n--- Evaluation Episode {ep + 1} ---\")\n",
        "\n",
        "    while not done:\n",
        "        action = np.random.choice(env.action_space.n)  # Choose a random action\n",
        "        next_state, reward, terminated, truncated, _ = env.step(action)\n",
        "        done = terminated or truncated\n",
        "        state = discretize(next_state)\n",
        "        total_reward += reward\n",
        "        time.sleep(0.05)  # Slow down for visualization\n",
        "\n",
        "    print(f\"Total Reward: {total_reward}\")\n",
        "\n",
        "env.close()"
      ]
    },
    {
      "cell_type": "markdown",
      "id": "dfe070e5-1e78-46da-b7a3-9c8efa68d768",
      "metadata": {
        "id": "dfe070e5-1e78-46da-b7a3-9c8efa68d768"
      },
      "source": [
        "## Plot via `matplotlib` and `Display` (see-able in jupyter notebook but not recommended)"
      ]
    },
    {
      "cell_type": "code",
      "execution_count": null,
      "id": "3a8e2086-4e49-4c67-b95d-37abb65a994a",
      "metadata": {
        "id": "3a8e2086-4e49-4c67-b95d-37abb65a994a"
      },
      "outputs": [],
      "source": [
        "import matplotlib.pyplot as plt\n",
        "from IPython.display import display, clear_output"
      ]
    },
    {
      "cell_type": "code",
      "execution_count": null,
      "id": "2db27137-37d8-425a-89c2-14a2f333033d",
      "metadata": {
        "id": "2db27137-37d8-425a-89c2-14a2f333033d",
        "outputId": "10732757-e800-4587-ed8c-bc71b6a578b4"
      },
      "outputs": [
        {
          "ename": "KeyboardInterrupt",
          "evalue": "",
          "output_type": "error",
          "traceback": [
            "\u001b[31m---------------------------------------------------------------------------\u001b[39m",
            "\u001b[31mKeyboardInterrupt\u001b[39m                         Traceback (most recent call last)",
            "\u001b[36mCell\u001b[39m\u001b[36m \u001b[39m\u001b[32mIn[16]\u001b[39m\u001b[32m, line 33\u001b[39m\n\u001b[32m     31\u001b[39m     plt.title(\u001b[33mf\u001b[39m\u001b[33m\"\u001b[39m\u001b[33mFrame: \u001b[39m\u001b[38;5;132;01m{\u001b[39;00mframe\u001b[38;5;132;01m}\u001b[39;00m\u001b[33m\"\u001b[39m)\n\u001b[32m     32\u001b[39m     plt.grid()\n\u001b[32m---> \u001b[39m\u001b[32m33\u001b[39m     \u001b[43mdisplay\u001b[49m\u001b[43m.\u001b[49m\u001b[43mdisplay\u001b[49m\u001b[43m(\u001b[49m\u001b[43mplt\u001b[49m\u001b[43m.\u001b[49m\u001b[43mgcf\u001b[49m\u001b[43m(\u001b[49m\u001b[43m)\u001b[49m\u001b[43m)\u001b[49m\n\u001b[32m     34\u001b[39m     display.clear_output(wait=\u001b[38;5;28;01mTrue\u001b[39;00m)\n\u001b[32m     36\u001b[39m \u001b[38;5;28mprint\u001b[39m(\u001b[33mf\u001b[39m\u001b[33m\"\u001b[39m\u001b[33mTotal Reward: \u001b[39m\u001b[38;5;132;01m{\u001b[39;00mtotal_reward\u001b[38;5;132;01m}\u001b[39;00m\u001b[33m\"\u001b[39m)\n",
            "\u001b[36mFile \u001b[39m\u001b[32m~\\Documents\\GitHub\\DYNR1cv_internal\\venv\\Lib\\site-packages\\IPython\\core\\display_functions.py:278\u001b[39m, in \u001b[36mdisplay\u001b[39m\u001b[34m(include, exclude, metadata, transient, display_id, raw, clear, *objs, **kwargs)\u001b[39m\n\u001b[32m    276\u001b[39m     publish_display_data(data=obj, metadata=metadata, **kwargs)\n\u001b[32m    277\u001b[39m \u001b[38;5;28;01melse\u001b[39;00m:\n\u001b[32m--> \u001b[39m\u001b[32m278\u001b[39m     format_dict, md_dict = \u001b[38;5;28;43mformat\u001b[39;49m\u001b[43m(\u001b[49m\u001b[43mobj\u001b[49m\u001b[43m,\u001b[49m\u001b[43m \u001b[49m\u001b[43minclude\u001b[49m\u001b[43m=\u001b[49m\u001b[43minclude\u001b[49m\u001b[43m,\u001b[49m\u001b[43m \u001b[49m\u001b[43mexclude\u001b[49m\u001b[43m=\u001b[49m\u001b[43mexclude\u001b[49m\u001b[43m)\u001b[49m\n\u001b[32m    279\u001b[39m     \u001b[38;5;28;01mif\u001b[39;00m \u001b[38;5;129;01mnot\u001b[39;00m format_dict:\n\u001b[32m    280\u001b[39m         \u001b[38;5;66;03m# nothing to display (e.g. _ipython_display_ took over)\u001b[39;00m\n\u001b[32m    281\u001b[39m         \u001b[38;5;28;01mcontinue\u001b[39;00m\n",
            "\u001b[36mFile \u001b[39m\u001b[32m~\\Documents\\GitHub\\DYNR1cv_internal\\venv\\Lib\\site-packages\\IPython\\core\\formatters.py:238\u001b[39m, in \u001b[36mDisplayFormatter.format\u001b[39m\u001b[34m(self, obj, include, exclude)\u001b[39m\n\u001b[32m    236\u001b[39m md = \u001b[38;5;28;01mNone\u001b[39;00m\n\u001b[32m    237\u001b[39m \u001b[38;5;28;01mtry\u001b[39;00m:\n\u001b[32m--> \u001b[39m\u001b[32m238\u001b[39m     data = \u001b[43mformatter\u001b[49m\u001b[43m(\u001b[49m\u001b[43mobj\u001b[49m\u001b[43m)\u001b[49m\n\u001b[32m    239\u001b[39m \u001b[38;5;28;01mexcept\u001b[39;00m:\n\u001b[32m    240\u001b[39m     \u001b[38;5;66;03m# FIXME: log the exception\u001b[39;00m\n\u001b[32m    241\u001b[39m     \u001b[38;5;28;01mraise\u001b[39;00m\n",
            "\u001b[36mFile \u001b[39m\u001b[32m~\\Documents\\GitHub\\DYNR1cv_internal\\venv\\Lib\\site-packages\\decorator.py:232\u001b[39m, in \u001b[36mdecorate.<locals>.fun\u001b[39m\u001b[34m(*args, **kw)\u001b[39m\n\u001b[32m    230\u001b[39m \u001b[38;5;28;01mif\u001b[39;00m \u001b[38;5;129;01mnot\u001b[39;00m kwsyntax:\n\u001b[32m    231\u001b[39m     args, kw = fix(args, kw, sig)\n\u001b[32m--> \u001b[39m\u001b[32m232\u001b[39m \u001b[38;5;28;01mreturn\u001b[39;00m \u001b[43mcaller\u001b[49m\u001b[43m(\u001b[49m\u001b[43mfunc\u001b[49m\u001b[43m,\u001b[49m\u001b[43m \u001b[49m\u001b[43m*\u001b[49m\u001b[43m(\u001b[49m\u001b[43mextras\u001b[49m\u001b[43m \u001b[49m\u001b[43m+\u001b[49m\u001b[43m \u001b[49m\u001b[43margs\u001b[49m\u001b[43m)\u001b[49m\u001b[43m,\u001b[49m\u001b[43m \u001b[49m\u001b[43m*\u001b[49m\u001b[43m*\u001b[49m\u001b[43mkw\u001b[49m\u001b[43m)\u001b[49m\n",
            "\u001b[36mFile \u001b[39m\u001b[32m~\\Documents\\GitHub\\DYNR1cv_internal\\venv\\Lib\\site-packages\\IPython\\core\\formatters.py:282\u001b[39m, in \u001b[36mcatch_format_error\u001b[39m\u001b[34m(method, self, *args, **kwargs)\u001b[39m\n\u001b[32m    280\u001b[39m \u001b[38;5;250m\u001b[39m\u001b[33;03m\"\"\"show traceback on failed format call\"\"\"\u001b[39;00m\n\u001b[32m    281\u001b[39m \u001b[38;5;28;01mtry\u001b[39;00m:\n\u001b[32m--> \u001b[39m\u001b[32m282\u001b[39m     r = \u001b[43mmethod\u001b[49m\u001b[43m(\u001b[49m\u001b[38;5;28;43mself\u001b[39;49m\u001b[43m,\u001b[49m\u001b[43m \u001b[49m\u001b[43m*\u001b[49m\u001b[43margs\u001b[49m\u001b[43m,\u001b[49m\u001b[43m \u001b[49m\u001b[43m*\u001b[49m\u001b[43m*\u001b[49m\u001b[43mkwargs\u001b[49m\u001b[43m)\u001b[49m\n\u001b[32m    283\u001b[39m \u001b[38;5;28;01mexcept\u001b[39;00m \u001b[38;5;167;01mNotImplementedError\u001b[39;00m:\n\u001b[32m    284\u001b[39m     \u001b[38;5;66;03m# don't warn on NotImplementedErrors\u001b[39;00m\n\u001b[32m    285\u001b[39m     \u001b[38;5;28;01mreturn\u001b[39;00m \u001b[38;5;28mself\u001b[39m._check_return(\u001b[38;5;28;01mNone\u001b[39;00m, args[\u001b[32m0\u001b[39m])\n",
            "\u001b[36mFile \u001b[39m\u001b[32m~\\Documents\\GitHub\\DYNR1cv_internal\\venv\\Lib\\site-packages\\IPython\\core\\formatters.py:402\u001b[39m, in \u001b[36mBaseFormatter.__call__\u001b[39m\u001b[34m(self, obj)\u001b[39m\n\u001b[32m    400\u001b[39m     \u001b[38;5;28;01mpass\u001b[39;00m\n\u001b[32m    401\u001b[39m \u001b[38;5;28;01melse\u001b[39;00m:\n\u001b[32m--> \u001b[39m\u001b[32m402\u001b[39m     \u001b[38;5;28;01mreturn\u001b[39;00m \u001b[43mprinter\u001b[49m\u001b[43m(\u001b[49m\u001b[43mobj\u001b[49m\u001b[43m)\u001b[49m\n\u001b[32m    403\u001b[39m \u001b[38;5;66;03m# Finally look for special method names\u001b[39;00m\n\u001b[32m    404\u001b[39m method = get_real_method(obj, \u001b[38;5;28mself\u001b[39m.print_method)\n",
            "\u001b[36mFile \u001b[39m\u001b[32m~\\Documents\\GitHub\\DYNR1cv_internal\\venv\\Lib\\site-packages\\IPython\\core\\pylabtools.py:170\u001b[39m, in \u001b[36mprint_figure\u001b[39m\u001b[34m(fig, fmt, bbox_inches, base64, **kwargs)\u001b[39m\n\u001b[32m    167\u001b[39m     \u001b[38;5;28;01mfrom\u001b[39;00m \u001b[34;01mmatplotlib\u001b[39;00m\u001b[34;01m.\u001b[39;00m\u001b[34;01mbackend_bases\u001b[39;00m \u001b[38;5;28;01mimport\u001b[39;00m FigureCanvasBase\n\u001b[32m    168\u001b[39m     FigureCanvasBase(fig)\n\u001b[32m--> \u001b[39m\u001b[32m170\u001b[39m \u001b[43mfig\u001b[49m\u001b[43m.\u001b[49m\u001b[43mcanvas\u001b[49m\u001b[43m.\u001b[49m\u001b[43mprint_figure\u001b[49m\u001b[43m(\u001b[49m\u001b[43mbytes_io\u001b[49m\u001b[43m,\u001b[49m\u001b[43m \u001b[49m\u001b[43m*\u001b[49m\u001b[43m*\u001b[49m\u001b[43mkw\u001b[49m\u001b[43m)\u001b[49m\n\u001b[32m    171\u001b[39m data = bytes_io.getvalue()\n\u001b[32m    172\u001b[39m \u001b[38;5;28;01mif\u001b[39;00m fmt == \u001b[33m'\u001b[39m\u001b[33msvg\u001b[39m\u001b[33m'\u001b[39m:\n",
            "\u001b[36mFile \u001b[39m\u001b[32m~\\Documents\\GitHub\\DYNR1cv_internal\\venv\\Lib\\site-packages\\matplotlib\\backend_bases.py:2155\u001b[39m, in \u001b[36mFigureCanvasBase.print_figure\u001b[39m\u001b[34m(self, filename, dpi, facecolor, edgecolor, orientation, format, bbox_inches, pad_inches, bbox_extra_artists, backend, **kwargs)\u001b[39m\n\u001b[32m   2152\u001b[39m     \u001b[38;5;66;03m# we do this instead of `self.figure.draw_without_rendering`\u001b[39;00m\n\u001b[32m   2153\u001b[39m     \u001b[38;5;66;03m# so that we can inject the orientation\u001b[39;00m\n\u001b[32m   2154\u001b[39m     \u001b[38;5;28;01mwith\u001b[39;00m \u001b[38;5;28mgetattr\u001b[39m(renderer, \u001b[33m\"\u001b[39m\u001b[33m_draw_disabled\u001b[39m\u001b[33m\"\u001b[39m, nullcontext)():\n\u001b[32m-> \u001b[39m\u001b[32m2155\u001b[39m         \u001b[38;5;28;43mself\u001b[39;49m\u001b[43m.\u001b[49m\u001b[43mfigure\u001b[49m\u001b[43m.\u001b[49m\u001b[43mdraw\u001b[49m\u001b[43m(\u001b[49m\u001b[43mrenderer\u001b[49m\u001b[43m)\u001b[49m\n\u001b[32m   2156\u001b[39m \u001b[38;5;28;01mif\u001b[39;00m bbox_inches:\n\u001b[32m   2157\u001b[39m     \u001b[38;5;28;01mif\u001b[39;00m bbox_inches == \u001b[33m\"\u001b[39m\u001b[33mtight\u001b[39m\u001b[33m\"\u001b[39m:\n",
            "\u001b[36mFile \u001b[39m\u001b[32m~\\Documents\\GitHub\\DYNR1cv_internal\\venv\\Lib\\site-packages\\matplotlib\\artist.py:94\u001b[39m, in \u001b[36m_finalize_rasterization.<locals>.draw_wrapper\u001b[39m\u001b[34m(artist, renderer, *args, **kwargs)\u001b[39m\n\u001b[32m     92\u001b[39m \u001b[38;5;129m@wraps\u001b[39m(draw)\n\u001b[32m     93\u001b[39m \u001b[38;5;28;01mdef\u001b[39;00m \u001b[34mdraw_wrapper\u001b[39m(artist, renderer, *args, **kwargs):\n\u001b[32m---> \u001b[39m\u001b[32m94\u001b[39m     result = \u001b[43mdraw\u001b[49m\u001b[43m(\u001b[49m\u001b[43martist\u001b[49m\u001b[43m,\u001b[49m\u001b[43m \u001b[49m\u001b[43mrenderer\u001b[49m\u001b[43m,\u001b[49m\u001b[43m \u001b[49m\u001b[43m*\u001b[49m\u001b[43margs\u001b[49m\u001b[43m,\u001b[49m\u001b[43m \u001b[49m\u001b[43m*\u001b[49m\u001b[43m*\u001b[49m\u001b[43mkwargs\u001b[49m\u001b[43m)\u001b[49m\n\u001b[32m     95\u001b[39m     \u001b[38;5;28;01mif\u001b[39;00m renderer._rasterizing:\n\u001b[32m     96\u001b[39m         renderer.stop_rasterizing()\n",
            "\u001b[36mFile \u001b[39m\u001b[32m~\\Documents\\GitHub\\DYNR1cv_internal\\venv\\Lib\\site-packages\\matplotlib\\artist.py:71\u001b[39m, in \u001b[36mallow_rasterization.<locals>.draw_wrapper\u001b[39m\u001b[34m(artist, renderer)\u001b[39m\n\u001b[32m     68\u001b[39m     \u001b[38;5;28;01mif\u001b[39;00m artist.get_agg_filter() \u001b[38;5;129;01mis\u001b[39;00m \u001b[38;5;129;01mnot\u001b[39;00m \u001b[38;5;28;01mNone\u001b[39;00m:\n\u001b[32m     69\u001b[39m         renderer.start_filter()\n\u001b[32m---> \u001b[39m\u001b[32m71\u001b[39m     \u001b[38;5;28;01mreturn\u001b[39;00m \u001b[43mdraw\u001b[49m\u001b[43m(\u001b[49m\u001b[43martist\u001b[49m\u001b[43m,\u001b[49m\u001b[43m \u001b[49m\u001b[43mrenderer\u001b[49m\u001b[43m)\u001b[49m\n\u001b[32m     72\u001b[39m \u001b[38;5;28;01mfinally\u001b[39;00m:\n\u001b[32m     73\u001b[39m     \u001b[38;5;28;01mif\u001b[39;00m artist.get_agg_filter() \u001b[38;5;129;01mis\u001b[39;00m \u001b[38;5;129;01mnot\u001b[39;00m \u001b[38;5;28;01mNone\u001b[39;00m:\n",
            "\u001b[36mFile \u001b[39m\u001b[32m~\\Documents\\GitHub\\DYNR1cv_internal\\venv\\Lib\\site-packages\\matplotlib\\figure.py:3257\u001b[39m, in \u001b[36mFigure.draw\u001b[39m\u001b[34m(self, renderer)\u001b[39m\n\u001b[32m   3254\u001b[39m             \u001b[38;5;66;03m# ValueError can occur when resizing a window.\u001b[39;00m\n\u001b[32m   3256\u001b[39m     \u001b[38;5;28mself\u001b[39m.patch.draw(renderer)\n\u001b[32m-> \u001b[39m\u001b[32m3257\u001b[39m     \u001b[43mmimage\u001b[49m\u001b[43m.\u001b[49m\u001b[43m_draw_list_compositing_images\u001b[49m\u001b[43m(\u001b[49m\n\u001b[32m   3258\u001b[39m \u001b[43m        \u001b[49m\u001b[43mrenderer\u001b[49m\u001b[43m,\u001b[49m\u001b[43m \u001b[49m\u001b[38;5;28;43mself\u001b[39;49m\u001b[43m,\u001b[49m\u001b[43m \u001b[49m\u001b[43martists\u001b[49m\u001b[43m,\u001b[49m\u001b[43m \u001b[49m\u001b[38;5;28;43mself\u001b[39;49m\u001b[43m.\u001b[49m\u001b[43msuppressComposite\u001b[49m\u001b[43m)\u001b[49m\n\u001b[32m   3260\u001b[39m     renderer.close_group(\u001b[33m'\u001b[39m\u001b[33mfigure\u001b[39m\u001b[33m'\u001b[39m)\n\u001b[32m   3261\u001b[39m \u001b[38;5;28;01mfinally\u001b[39;00m:\n",
            "\u001b[36mFile \u001b[39m\u001b[32m~\\Documents\\GitHub\\DYNR1cv_internal\\venv\\Lib\\site-packages\\matplotlib\\image.py:134\u001b[39m, in \u001b[36m_draw_list_compositing_images\u001b[39m\u001b[34m(renderer, parent, artists, suppress_composite)\u001b[39m\n\u001b[32m    132\u001b[39m \u001b[38;5;28;01mif\u001b[39;00m not_composite \u001b[38;5;129;01mor\u001b[39;00m \u001b[38;5;129;01mnot\u001b[39;00m has_images:\n\u001b[32m    133\u001b[39m     \u001b[38;5;28;01mfor\u001b[39;00m a \u001b[38;5;129;01min\u001b[39;00m artists:\n\u001b[32m--> \u001b[39m\u001b[32m134\u001b[39m         \u001b[43ma\u001b[49m\u001b[43m.\u001b[49m\u001b[43mdraw\u001b[49m\u001b[43m(\u001b[49m\u001b[43mrenderer\u001b[49m\u001b[43m)\u001b[49m\n\u001b[32m    135\u001b[39m \u001b[38;5;28;01melse\u001b[39;00m:\n\u001b[32m    136\u001b[39m     \u001b[38;5;66;03m# Composite any adjacent images together\u001b[39;00m\n\u001b[32m    137\u001b[39m     image_group = []\n",
            "\u001b[36mFile \u001b[39m\u001b[32m~\\Documents\\GitHub\\DYNR1cv_internal\\venv\\Lib\\site-packages\\matplotlib\\artist.py:71\u001b[39m, in \u001b[36mallow_rasterization.<locals>.draw_wrapper\u001b[39m\u001b[34m(artist, renderer)\u001b[39m\n\u001b[32m     68\u001b[39m     \u001b[38;5;28;01mif\u001b[39;00m artist.get_agg_filter() \u001b[38;5;129;01mis\u001b[39;00m \u001b[38;5;129;01mnot\u001b[39;00m \u001b[38;5;28;01mNone\u001b[39;00m:\n\u001b[32m     69\u001b[39m         renderer.start_filter()\n\u001b[32m---> \u001b[39m\u001b[32m71\u001b[39m     \u001b[38;5;28;01mreturn\u001b[39;00m \u001b[43mdraw\u001b[49m\u001b[43m(\u001b[49m\u001b[43martist\u001b[49m\u001b[43m,\u001b[49m\u001b[43m \u001b[49m\u001b[43mrenderer\u001b[49m\u001b[43m)\u001b[49m\n\u001b[32m     72\u001b[39m \u001b[38;5;28;01mfinally\u001b[39;00m:\n\u001b[32m     73\u001b[39m     \u001b[38;5;28;01mif\u001b[39;00m artist.get_agg_filter() \u001b[38;5;129;01mis\u001b[39;00m \u001b[38;5;129;01mnot\u001b[39;00m \u001b[38;5;28;01mNone\u001b[39;00m:\n",
            "\u001b[36mFile \u001b[39m\u001b[32m~\\Documents\\GitHub\\DYNR1cv_internal\\venv\\Lib\\site-packages\\matplotlib\\axes\\_base.py:3210\u001b[39m, in \u001b[36m_AxesBase.draw\u001b[39m\u001b[34m(self, renderer)\u001b[39m\n\u001b[32m   3207\u001b[39m \u001b[38;5;28;01mif\u001b[39;00m artists_rasterized:\n\u001b[32m   3208\u001b[39m     _draw_rasterized(\u001b[38;5;28mself\u001b[39m.get_figure(root=\u001b[38;5;28;01mTrue\u001b[39;00m), artists_rasterized, renderer)\n\u001b[32m-> \u001b[39m\u001b[32m3210\u001b[39m \u001b[43mmimage\u001b[49m\u001b[43m.\u001b[49m\u001b[43m_draw_list_compositing_images\u001b[49m\u001b[43m(\u001b[49m\n\u001b[32m   3211\u001b[39m \u001b[43m    \u001b[49m\u001b[43mrenderer\u001b[49m\u001b[43m,\u001b[49m\u001b[43m \u001b[49m\u001b[38;5;28;43mself\u001b[39;49m\u001b[43m,\u001b[49m\u001b[43m \u001b[49m\u001b[43martists\u001b[49m\u001b[43m,\u001b[49m\u001b[43m \u001b[49m\u001b[38;5;28;43mself\u001b[39;49m\u001b[43m.\u001b[49m\u001b[43mget_figure\u001b[49m\u001b[43m(\u001b[49m\u001b[43mroot\u001b[49m\u001b[43m=\u001b[49m\u001b[38;5;28;43;01mTrue\u001b[39;49;00m\u001b[43m)\u001b[49m\u001b[43m.\u001b[49m\u001b[43msuppressComposite\u001b[49m\u001b[43m)\u001b[49m\n\u001b[32m   3213\u001b[39m renderer.close_group(\u001b[33m'\u001b[39m\u001b[33maxes\u001b[39m\u001b[33m'\u001b[39m)\n\u001b[32m   3214\u001b[39m \u001b[38;5;28mself\u001b[39m.stale = \u001b[38;5;28;01mFalse\u001b[39;00m\n",
            "\u001b[36mFile \u001b[39m\u001b[32m~\\Documents\\GitHub\\DYNR1cv_internal\\venv\\Lib\\site-packages\\matplotlib\\image.py:134\u001b[39m, in \u001b[36m_draw_list_compositing_images\u001b[39m\u001b[34m(renderer, parent, artists, suppress_composite)\u001b[39m\n\u001b[32m    132\u001b[39m \u001b[38;5;28;01mif\u001b[39;00m not_composite \u001b[38;5;129;01mor\u001b[39;00m \u001b[38;5;129;01mnot\u001b[39;00m has_images:\n\u001b[32m    133\u001b[39m     \u001b[38;5;28;01mfor\u001b[39;00m a \u001b[38;5;129;01min\u001b[39;00m artists:\n\u001b[32m--> \u001b[39m\u001b[32m134\u001b[39m         \u001b[43ma\u001b[49m\u001b[43m.\u001b[49m\u001b[43mdraw\u001b[49m\u001b[43m(\u001b[49m\u001b[43mrenderer\u001b[49m\u001b[43m)\u001b[49m\n\u001b[32m    135\u001b[39m \u001b[38;5;28;01melse\u001b[39;00m:\n\u001b[32m    136\u001b[39m     \u001b[38;5;66;03m# Composite any adjacent images together\u001b[39;00m\n\u001b[32m    137\u001b[39m     image_group = []\n",
            "\u001b[36mFile \u001b[39m\u001b[32m~\\Documents\\GitHub\\DYNR1cv_internal\\venv\\Lib\\site-packages\\matplotlib\\artist.py:71\u001b[39m, in \u001b[36mallow_rasterization.<locals>.draw_wrapper\u001b[39m\u001b[34m(artist, renderer)\u001b[39m\n\u001b[32m     68\u001b[39m     \u001b[38;5;28;01mif\u001b[39;00m artist.get_agg_filter() \u001b[38;5;129;01mis\u001b[39;00m \u001b[38;5;129;01mnot\u001b[39;00m \u001b[38;5;28;01mNone\u001b[39;00m:\n\u001b[32m     69\u001b[39m         renderer.start_filter()\n\u001b[32m---> \u001b[39m\u001b[32m71\u001b[39m     \u001b[38;5;28;01mreturn\u001b[39;00m \u001b[43mdraw\u001b[49m\u001b[43m(\u001b[49m\u001b[43martist\u001b[49m\u001b[43m,\u001b[49m\u001b[43m \u001b[49m\u001b[43mrenderer\u001b[49m\u001b[43m)\u001b[49m\n\u001b[32m     72\u001b[39m \u001b[38;5;28;01mfinally\u001b[39;00m:\n\u001b[32m     73\u001b[39m     \u001b[38;5;28;01mif\u001b[39;00m artist.get_agg_filter() \u001b[38;5;129;01mis\u001b[39;00m \u001b[38;5;129;01mnot\u001b[39;00m \u001b[38;5;28;01mNone\u001b[39;00m:\n",
            "\u001b[36mFile \u001b[39m\u001b[32m~\\Documents\\GitHub\\DYNR1cv_internal\\venv\\Lib\\site-packages\\matplotlib\\image.py:609\u001b[39m, in \u001b[36m_ImageBase.draw\u001b[39m\u001b[34m(self, renderer)\u001b[39m\n\u001b[32m    607\u001b[39m         renderer.draw_image(gc, l, b, im, trans)\n\u001b[32m    608\u001b[39m \u001b[38;5;28;01melse\u001b[39;00m:\n\u001b[32m--> \u001b[39m\u001b[32m609\u001b[39m     im, l, b, trans = \u001b[38;5;28;43mself\u001b[39;49m\u001b[43m.\u001b[49m\u001b[43mmake_image\u001b[49m\u001b[43m(\u001b[49m\n\u001b[32m    610\u001b[39m \u001b[43m        \u001b[49m\u001b[43mrenderer\u001b[49m\u001b[43m,\u001b[49m\u001b[43m \u001b[49m\u001b[43mrenderer\u001b[49m\u001b[43m.\u001b[49m\u001b[43mget_image_magnification\u001b[49m\u001b[43m(\u001b[49m\u001b[43m)\u001b[49m\u001b[43m)\u001b[49m\n\u001b[32m    611\u001b[39m     \u001b[38;5;28;01mif\u001b[39;00m im \u001b[38;5;129;01mis\u001b[39;00m \u001b[38;5;129;01mnot\u001b[39;00m \u001b[38;5;28;01mNone\u001b[39;00m:\n\u001b[32m    612\u001b[39m         renderer.draw_image(gc, l, b, im)\n",
            "\u001b[36mFile \u001b[39m\u001b[32m~\\Documents\\GitHub\\DYNR1cv_internal\\venv\\Lib\\site-packages\\matplotlib\\image.py:912\u001b[39m, in \u001b[36mAxesImage.make_image\u001b[39m\u001b[34m(self, renderer, magnification, unsampled)\u001b[39m\n\u001b[32m    909\u001b[39m transformed_bbox = TransformedBbox(bbox, trans)\n\u001b[32m    910\u001b[39m clip = ((\u001b[38;5;28mself\u001b[39m.get_clip_box() \u001b[38;5;129;01mor\u001b[39;00m \u001b[38;5;28mself\u001b[39m.axes.bbox) \u001b[38;5;28;01mif\u001b[39;00m \u001b[38;5;28mself\u001b[39m.get_clip_on()\n\u001b[32m    911\u001b[39m         \u001b[38;5;28;01melse\u001b[39;00m \u001b[38;5;28mself\u001b[39m.get_figure(root=\u001b[38;5;28;01mTrue\u001b[39;00m).bbox)\n\u001b[32m--> \u001b[39m\u001b[32m912\u001b[39m \u001b[38;5;28;01mreturn\u001b[39;00m \u001b[38;5;28;43mself\u001b[39;49m\u001b[43m.\u001b[49m\u001b[43m_make_image\u001b[49m\u001b[43m(\u001b[49m\u001b[38;5;28;43mself\u001b[39;49m\u001b[43m.\u001b[49m\u001b[43m_A\u001b[49m\u001b[43m,\u001b[49m\u001b[43m \u001b[49m\u001b[43mbbox\u001b[49m\u001b[43m,\u001b[49m\u001b[43m \u001b[49m\u001b[43mtransformed_bbox\u001b[49m\u001b[43m,\u001b[49m\u001b[43m \u001b[49m\u001b[43mclip\u001b[49m\u001b[43m,\u001b[49m\n\u001b[32m    913\u001b[39m \u001b[43m                        \u001b[49m\u001b[43mmagnification\u001b[49m\u001b[43m,\u001b[49m\u001b[43m \u001b[49m\u001b[43munsampled\u001b[49m\u001b[43m=\u001b[49m\u001b[43munsampled\u001b[49m\u001b[43m)\u001b[49m\n",
            "\u001b[36mFile \u001b[39m\u001b[32m~\\Documents\\GitHub\\DYNR1cv_internal\\venv\\Lib\\site-packages\\matplotlib\\image.py:511\u001b[39m, in \u001b[36m_ImageBase._make_image\u001b[39m\u001b[34m(self, A, in_bbox, out_bbox, clip_bbox, magnification, unsampled, round_to_pixel_border)\u001b[39m\n\u001b[32m    508\u001b[39m     \u001b[38;5;28;01melse\u001b[39;00m:\n\u001b[32m    509\u001b[39m         output_alpha = _resample(  \u001b[38;5;66;03m# resample alpha channel\u001b[39;00m\n\u001b[32m    510\u001b[39m             \u001b[38;5;28mself\u001b[39m, A[..., \u001b[32m3\u001b[39m], out_shape, t)\n\u001b[32m--> \u001b[39m\u001b[32m511\u001b[39m     output = \u001b[43m_resample\u001b[49m\u001b[43m(\u001b[49m\u001b[43m  \u001b[49m\u001b[38;5;66;43;03m# resample rgb channels\u001b[39;49;00m\n\u001b[32m    512\u001b[39m \u001b[43m        \u001b[49m\u001b[38;5;28;43mself\u001b[39;49m\u001b[43m,\u001b[49m\u001b[43m \u001b[49m\u001b[43m_rgb_to_rgba\u001b[49m\u001b[43m(\u001b[49m\u001b[43mA\u001b[49m\u001b[43m[\u001b[49m\u001b[43m.\u001b[49m\u001b[43m.\u001b[49m\u001b[43m.\u001b[49m\u001b[43m,\u001b[49m\u001b[43m \u001b[49m\u001b[43m:\u001b[49m\u001b[32;43m3\u001b[39;49m\u001b[43m]\u001b[49m\u001b[43m)\u001b[49m\u001b[43m,\u001b[49m\u001b[43m \u001b[49m\u001b[43mout_shape\u001b[49m\u001b[43m,\u001b[49m\u001b[43m \u001b[49m\u001b[43mt\u001b[49m\u001b[43m)\u001b[49m\n\u001b[32m    513\u001b[39m \u001b[38;5;28;01melif\u001b[39;00m np.ndim(alpha) > \u001b[32m0\u001b[39m:  \u001b[38;5;66;03m# Array alpha\u001b[39;00m\n\u001b[32m    514\u001b[39m     \u001b[38;5;66;03m# user-specified array alpha overrides the existing alpha channel\u001b[39;00m\n\u001b[32m    515\u001b[39m     output_alpha = _resample(\u001b[38;5;28mself\u001b[39m, alpha, out_shape, t)\n",
            "\u001b[36mFile \u001b[39m\u001b[32m~\\Documents\\GitHub\\DYNR1cv_internal\\venv\\Lib\\site-packages\\matplotlib\\image.py:210\u001b[39m, in \u001b[36m_resample\u001b[39m\u001b[34m(image_obj, data, out_shape, transform, resample, alpha)\u001b[39m\n\u001b[32m    208\u001b[39m \u001b[38;5;28;01mif\u001b[39;00m resample \u001b[38;5;129;01mis\u001b[39;00m \u001b[38;5;28;01mNone\u001b[39;00m:\n\u001b[32m    209\u001b[39m     resample = image_obj.get_resample()\n\u001b[32m--> \u001b[39m\u001b[32m210\u001b[39m \u001b[43m_image\u001b[49m\u001b[43m.\u001b[49m\u001b[43mresample\u001b[49m\u001b[43m(\u001b[49m\u001b[43mdata\u001b[49m\u001b[43m,\u001b[49m\u001b[43m \u001b[49m\u001b[43mout\u001b[49m\u001b[43m,\u001b[49m\u001b[43m \u001b[49m\u001b[43mtransform\u001b[49m\u001b[43m,\u001b[49m\n\u001b[32m    211\u001b[39m \u001b[43m                \u001b[49m\u001b[43m_interpd_\u001b[49m\u001b[43m[\u001b[49m\u001b[43minterpolation\u001b[49m\u001b[43m]\u001b[49m\u001b[43m,\u001b[49m\n\u001b[32m    212\u001b[39m \u001b[43m                \u001b[49m\u001b[43mresample\u001b[49m\u001b[43m,\u001b[49m\n\u001b[32m    213\u001b[39m \u001b[43m                \u001b[49m\u001b[43malpha\u001b[49m\u001b[43m,\u001b[49m\n\u001b[32m    214\u001b[39m \u001b[43m                \u001b[49m\u001b[43mimage_obj\u001b[49m\u001b[43m.\u001b[49m\u001b[43mget_filternorm\u001b[49m\u001b[43m(\u001b[49m\u001b[43m)\u001b[49m\u001b[43m,\u001b[49m\n\u001b[32m    215\u001b[39m \u001b[43m                \u001b[49m\u001b[43mimage_obj\u001b[49m\u001b[43m.\u001b[49m\u001b[43mget_filterrad\u001b[49m\u001b[43m(\u001b[49m\u001b[43m)\u001b[49m\u001b[43m)\u001b[49m\n\u001b[32m    216\u001b[39m \u001b[38;5;28;01mreturn\u001b[39;00m out\n",
            "\u001b[31mKeyboardInterrupt\u001b[39m: "
          ]
        },
        {
          "data": {
            "image/png": "[encoded data removed]",
            "text/plain": [
              "<Figure size 640x480 with 1 Axes>"
            ]
          },
          "metadata": {},
          "output_type": "display_data"
        }
      ],
      "source": [
        "# Assume q_table and discretize() are already defined\n",
        "# max_steps is also assumed to be defined\n",
        "\n",
        "env = gym.make(\"CartPole-v1\", render_mode=\"rgb_array\")  # use \"rgb_array\" for frame capture\n",
        "env = env.unwrapped\n",
        "env = TimeLimit(env, max_episode_steps=max_steps)\n",
        "\n",
        "num_eval_episodes = 4\n",
        "\n",
        "from IPython import display\n",
        "\n",
        "for ep in range(num_eval_episodes):\n",
        "    state, _ = env.reset()\n",
        "    state = discretize(state)\n",
        "    total_reward = 0\n",
        "    done = False\n",
        "    frame = 0\n",
        "\n",
        "    print(f\"\\n--- Evaluation Episode {ep+1} ---\")\n",
        "\n",
        "    while not done:\n",
        "        frame = frame + 1\n",
        "        action = np.argmax(q_table[state])  # Choose best action\n",
        "        next_state, reward, terminated, truncated, _ = env.step(action)\n",
        "        done = terminated or truncated\n",
        "        state = discretize(next_state)\n",
        "        total_reward += reward\n",
        "\n",
        "        # Render the current frame and display it\n",
        "        img=plt.imshow(env.render())\n",
        "        plt.title(f\"Frame: {frame}\")\n",
        "        plt.grid()\n",
        "        display.display(plt.gcf())\n",
        "        display.clear_output(wait=True)\n",
        "\n",
        "    print(f\"Total Reward: {total_reward}\")\n",
        "    frame = 0\n",
        "\n",
        "env.close()"
      ]
    },
    {
      "cell_type": "markdown",
      "id": "5f3e9ffb-7bcd-4d12-a07f-089978466289",
      "metadata": {
        "id": "5f3e9ffb-7bcd-4d12-a07f-089978466289"
      },
      "source": [
        "## Generating GIF instead of waiting for jupyter to display the frames..."
      ]
    },
    {
      "cell_type": "code",
      "execution_count": 10,
      "id": "d677060d-439f-464a-9447-f5ae342849b4",
      "metadata": {
        "colab": {
          "base_uri": "https://localhost:8080/"
        },
        "id": "d677060d-439f-464a-9447-f5ae342849b4",
        "outputId": "08703f7b-4611-4160-ebd2-734173027260"
      },
      "outputs": [
        {
          "output_type": "stream",
          "name": "stdout",
          "text": [
            "\n",
            "--- Evaluation Episode 1 ---\n",
            "Total Reward: 205.0\n",
            "\n",
            "--- Evaluation Episode 2 ---\n",
            "Total Reward: 800.0\n",
            "\n",
            "--- Evaluation Episode 3 ---\n",
            "Total Reward: 460.0\n",
            "\n",
            "--- Evaluation Episode 4 ---\n",
            "Total Reward: 800.0\n"
          ]
        }
      ],
      "source": [
        "env = gym.make(\"CartPole-v1\", render_mode=\"rgb_array\")\n",
        "env = env.unwrapped\n",
        "env = TimeLimit(env, max_episode_steps=max_steps)  # or `max_steps` if defined\n",
        "\n",
        "num_eval_episodes = 4\n",
        "all_episode_frames = []  # Store all episodes' frames\n",
        "\n",
        "for ep in range(num_eval_episodes):\n",
        "    state, _ = env.reset()\n",
        "    state = discretize(state)\n",
        "    total_reward = 0\n",
        "    done = False\n",
        "    episode_frames = []\n",
        "\n",
        "    print(f\"\\n--- Evaluation Episode {ep+1} ---\")\n",
        "\n",
        "    while not done:\n",
        "        action = np.argmax(q_table[state])  # Choose best action\n",
        "        next_state, reward, terminated, truncated, _ = env.step(action)\n",
        "        done = terminated or truncated\n",
        "        frame_rgb = env.render()\n",
        "        episode_frames.append(frame_rgb)\n",
        "        state = discretize(next_state)\n",
        "        total_reward += reward\n",
        "\n",
        "    print(f\"Total Reward: {total_reward}\")\n",
        "    all_episode_frames.append(episode_frames)\n",
        "\n",
        "env.close()"
      ]
    },
    {
      "cell_type": "code",
      "execution_count": 11,
      "id": "eec01a1b-5f1a-42f6-ac25-71fafb5fe152",
      "metadata": {
        "colab": {
          "base_uri": "https://localhost:8080/"
        },
        "id": "eec01a1b-5f1a-42f6-ac25-71fafb5fe152",
        "outputId": "55447157-a1df-44c5-807a-bf3b937e6c2b"
      },
      "outputs": [
        {
          "output_type": "stream",
          "name": "stdout",
          "text": [
            "Requirement already satisfied: imageio in /usr/local/lib/python3.11/dist-packages (2.37.0)\n",
            "Requirement already satisfied: numpy in /usr/local/lib/python3.11/dist-packages (from imageio) (2.0.2)\n",
            "Requirement already satisfied: pillow>=8.3.2 in /usr/local/lib/python3.11/dist-packages (from imageio) (11.2.1)\n"
          ]
        }
      ],
      "source": [
        "%pip install imageio"
      ]
    },
    {
      "cell_type": "code",
      "execution_count": 12,
      "id": "82e9bdd5-12c5-40bf-b07b-53512763a095",
      "metadata": {
        "colab": {
          "base_uri": "https://localhost:8080/"
        },
        "id": "82e9bdd5-12c5-40bf-b07b-53512763a095",
        "outputId": "9ff514ba-673c-4766-c8b0-a71a9cd5827e"
      },
      "outputs": [
        {
          "output_type": "stream",
          "name": "stdout",
          "text": [
            "Saved: gifs/cartpole_episode_1.gif\n",
            "Saved: gifs/cartpole_episode_2.gif\n",
            "Saved: gifs/cartpole_episode_3.gif\n",
            "Saved: gifs/cartpole_episode_4.gif\n"
          ]
        }
      ],
      "source": [
        "import imageio\n",
        "import os\n",
        "\n",
        "# Save each episode as a separate GIF\n",
        "os.makedirs(\"gifs\", exist_ok=True)\n",
        "\n",
        "for ep_idx, frames in enumerate(all_episode_frames):\n",
        "    gif_path = f\"gifs/cartpole_episode_{ep_idx+1}.gif\"\n",
        "    imageio.mimsave(gif_path, frames, fps=30)\n",
        "    print(f\"Saved: {gif_path}\")\n"
      ]
    },
    {
      "cell_type": "code",
      "execution_count": null,
      "id": "b2344f6b-490c-445f-b5e1-affb0535c4c6",
      "metadata": {
        "id": "b2344f6b-490c-445f-b5e1-affb0535c4c6"
      },
      "outputs": [],
      "source": []
    },
    {
      "cell_type": "code",
      "execution_count": null,
      "id": "f39d7bbe-e23a-4f58-ae22-864e0170a876",
      "metadata": {
        "id": "f39d7bbe-e23a-4f58-ae22-864e0170a876"
      },
      "outputs": [],
      "source": []
    },
    {
      "cell_type": "code",
      "execution_count": null,
      "id": "55ea0c8d-ee36-4e40-b43f-44ae4d0a8e6f",
      "metadata": {
        "id": "55ea0c8d-ee36-4e40-b43f-44ae4d0a8e6f"
      },
      "outputs": [],
      "source": []
    },
    {
      "cell_type": "code",
      "execution_count": null,
      "id": "c4b0e28b-5f2e-4371-9b96-ac888eb6a225",
      "metadata": {
        "id": "c4b0e28b-5f2e-4371-9b96-ac888eb6a225"
      },
      "outputs": [],
      "source": []
    }
  ],
  "metadata": {
    "kernelspec": {
      "display_name": "Python 3 (ipykernel)",
      "language": "python",
      "name": "python3"
    },
    "language_info": {
      "codemirror_mode": {
        "name": "ipython",
        "version": 3
      },
      "file_extension": ".py",
      "mimetype": "text/x-python",
      "name": "python",
      "nbconvert_exporter": "python",
      "pygments_lexer": "ipython3",
      "version": "3.12.1"
    },
    "colab": {
      "provenance": [],
      "include_colab_link": true
    }
  },
  "nbformat": 4,
  "nbformat_minor": 5
}